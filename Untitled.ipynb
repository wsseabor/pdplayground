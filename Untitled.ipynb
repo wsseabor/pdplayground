{
 "cells": [
  {
   "cell_type": "code",
   "execution_count": 2,
   "id": "07374c5f-074d-4551-8b8d-6afe44ea3e51",
   "metadata": {},
   "outputs": [],
   "source": [
    "from pandas import DataFrame, Series\n",
    "import pandas as pd\n",
    "import json"
   ]
  },
  {
   "cell_type": "code",
   "execution_count": 3,
   "id": "fec5fd26-12d4-46d5-bc0e-1c435275124c",
   "metadata": {},
   "outputs": [],
   "source": [
    "#Headers for user information\n",
    "unames = ['user_id', 'gender', 'age', 'occupation', 'zip']\n",
    "\n",
    "#Interestingly you have to declare the engine otherwise it defaults to a c engine that doesn't support regex separators\n",
    "users = pd.read_table('datasets/users.dat', sep='::', engine = 'python', header = None, names = unames)\n",
    "\n",
    "#Test print\n",
    "#users[:5]\n",
    "\n",
    "#Headers for rating information\n",
    "rnames = ['user_id', 'movie_id', 'rating', 'timestamp']\n",
    "ratings = pd.read_table('datasets/ratings.dat', sep='::', engine = 'python', header = None, names = rnames)\n",
    "\n",
    "#Test print\n",
    "#ratings[:5]\n",
    "\n",
    "#Headers for movie information\n",
    "mnames = ['movie_id', 'title', 'genre']\n",
    "movies = pd.read_table('datasets/movies.dat', sep='::', engine = 'python', header = None, names = mnames)\n",
    "\n",
    "#Test print\n",
    "#movies[:5]\n",
    "\n"
   ]
  },
  {
   "cell_type": "code",
   "execution_count": null,
   "id": "a5104f10-c2cd-42f0-89e1-f1ce36abac9f",
   "metadata": {},
   "outputs": [],
   "source": [
    "#Suppose you wanted to analyze movie ratings by sex and age, computing the mean or some such analysis\n",
    "#Use merge function to merge separate tables, pandas infers which columsn to use as a merge based on column name overlap\n",
    "\n",
    "#Merge function takes a data frame to be merged, in this case we do a merge on a merge to get the desired result\n",
    "#Merge the merge of ratings and users on movies\n",
    "rating_user_merge = pd.merge(pd.merge(ratings, users), movies)\n",
    "\n",
    "#Similar to SQL syntax, the merge function infers columns joined by user id\n",
    "rating_user_merge[:5]"
   ]
  },
  {
   "cell_type": "code",
   "execution_count": 7,
   "id": "e8ad0891-c2f0-450f-8e5a-0834023e6290",
   "metadata": {},
   "outputs": [
    {
     "data": {
      "text/html": [
       "<div>\n",
       "<style scoped>\n",
       "    .dataframe tbody tr th:only-of-type {\n",
       "        vertical-align: middle;\n",
       "    }\n",
       "\n",
       "    .dataframe tbody tr th {\n",
       "        vertical-align: top;\n",
       "    }\n",
       "\n",
       "    .dataframe thead th {\n",
       "        text-align: right;\n",
       "    }\n",
       "</style>\n",
       "<table border=\"1\" class=\"dataframe\">\n",
       "  <thead>\n",
       "    <tr style=\"text-align: right;\">\n",
       "      <th>gender</th>\n",
       "      <th>F</th>\n",
       "      <th>M</th>\n",
       "    </tr>\n",
       "    <tr>\n",
       "      <th>title</th>\n",
       "      <th></th>\n",
       "      <th></th>\n",
       "    </tr>\n",
       "  </thead>\n",
       "  <tbody>\n",
       "    <tr>\n",
       "      <th>$1,000,000 Duck (1971)</th>\n",
       "      <td>3.375000</td>\n",
       "      <td>2.761905</td>\n",
       "    </tr>\n",
       "    <tr>\n",
       "      <th>'Night Mother (1986)</th>\n",
       "      <td>3.388889</td>\n",
       "      <td>3.352941</td>\n",
       "    </tr>\n",
       "    <tr>\n",
       "      <th>'Til There Was You (1997)</th>\n",
       "      <td>2.675676</td>\n",
       "      <td>2.733333</td>\n",
       "    </tr>\n",
       "    <tr>\n",
       "      <th>'burbs, The (1989)</th>\n",
       "      <td>2.793478</td>\n",
       "      <td>2.962085</td>\n",
       "    </tr>\n",
       "    <tr>\n",
       "      <th>...And Justice for All (1979)</th>\n",
       "      <td>3.828571</td>\n",
       "      <td>3.689024</td>\n",
       "    </tr>\n",
       "  </tbody>\n",
       "</table>\n",
       "</div>"
      ],
      "text/plain": [
       "gender                                F         M\n",
       "title                                            \n",
       "$1,000,000 Duck (1971)         3.375000  2.761905\n",
       "'Night Mother (1986)           3.388889  3.352941\n",
       "'Til There Was You (1997)      2.675676  2.733333\n",
       "'burbs, The (1989)             2.793478  2.962085\n",
       "...And Justice for All (1979)  3.828571  3.689024"
      ]
     },
     "execution_count": 7,
     "metadata": {},
     "output_type": "execute_result"
    }
   ],
   "source": [
    "#To get mean movie ratings for film grouped by gender, using the pivot_table method\n",
    "mean_rating_by_gender = rating_user_merge.pivot_table('rating', index = 'title', columns = 'gender', aggfunc = 'mean')\n",
    "\n",
    "#Test print\n",
    "mean_rating_by_gender[:5]\n"
   ]
  },
  {
   "cell_type": "code",
   "execution_count": null,
   "id": "47c00dcd-d803-4c40-9b18-4fb8c6923c28",
   "metadata": {},
   "outputs": [],
   "source": []
  }
 ],
 "metadata": {
  "kernelspec": {
   "display_name": "Python 3 (ipykernel)",
   "language": "python",
   "name": "python3"
  },
  "language_info": {
   "codemirror_mode": {
    "name": "ipython",
    "version": 3
   },
   "file_extension": ".py",
   "mimetype": "text/x-python",
   "name": "python",
   "nbconvert_exporter": "python",
   "pygments_lexer": "ipython3",
   "version": "3.10.2"
  }
 },
 "nbformat": 4,
 "nbformat_minor": 5
}
