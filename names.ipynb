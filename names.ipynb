{
 "cells": [
  {
   "cell_type": "code",
   "execution_count": 1,
   "id": "a49138db-ade7-4037-88d0-7b6c8bb189a7",
   "metadata": {},
   "outputs": [],
   "source": [
    "import pandas as pd"
   ]
  },
  {
   "cell_type": "code",
   "execution_count": 7,
   "id": "9065fe6b-9a79-4576-bb58-ed092eba464b",
   "metadata": {},
   "outputs": [],
   "source": [
    "#Filepath and headers\n",
    "path = 'datasets/names/yob1880.txt'\n",
    "headers = ['name', 'sex', 'births']\n",
    "\n",
    "#Load dataframe\n",
    "names1880 = pd.read_csv(path, names = headers)\n",
    "\n",
    "#Test print\n",
    "#names1880[:10]"
   ]
  },
  {
   "cell_type": "code",
   "execution_count": null,
   "id": "1c24a71f-bbee-4a7e-a89a-806646bab66f",
   "metadata": {},
   "outputs": [],
   "source": []
  }
 ],
 "metadata": {
  "kernelspec": {
   "display_name": "Python 3 (ipykernel)",
   "language": "python",
   "name": "python3"
  },
  "language_info": {
   "codemirror_mode": {
    "name": "ipython",
    "version": 3
   },
   "file_extension": ".py",
   "mimetype": "text/x-python",
   "name": "python",
   "nbconvert_exporter": "python",
   "pygments_lexer": "ipython3",
   "version": "3.10.2"
  }
 },
 "nbformat": 4,
 "nbformat_minor": 5
}
