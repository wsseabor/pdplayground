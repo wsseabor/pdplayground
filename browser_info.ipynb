{
 "cells": [
  {
   "cell_type": "code",
   "execution_count": null,
   "id": "b86a9bd7-1e15-47a0-90a7-4a6fe788de82",
   "metadata": {},
   "outputs": [],
   "source": [
    "from pandas import DataFrame, Series\n",
    "import numpy as np\n",
    "import pandas as pd\n",
    "import json"
   ]
  },
  {
   "cell_type": "code",
   "execution_count": null,
   "id": "c53cd219-7e3e-426e-97e0-f695feb29a44",
   "metadata": {},
   "outputs": [],
   "source": [
    "#Import path to file\n",
    "path = path\n",
    "\n",
    "#List comprehension to load records of json file\n",
    "records = [json.loads(line) for line in open(path)]\n",
    "\n",
    "#Show first record data\n",
    "records[0]"
   ]
  },
  {
   "cell_type": "code",
   "execution_count": null,
   "id": "8aeb8fe7-83cf-4938-bdb7-7968817fe13c",
   "metadata": {},
   "outputs": [],
   "source": [
    "#List comprehension to find time zones ('tz'), using check at end in case some values are null\n",
    "#zones = [rec['tz'] for rec in records if 'tz' in rec]\n",
    "\n",
    "#Splice list up to first 10\n",
    "#zones[:10]"
   ]
  },
  {
   "cell_type": "code",
   "execution_count": null,
   "id": "b6b2bd9e-6112-45cc-9a6f-f350dd0ac9dc",
   "metadata": {},
   "outputs": [],
   "source": [
    "#Function to get count of specific time zones in record\n",
    "def get_counts(seq):\n",
    "    counts = {}\n",
    "    for x in seq:\n",
    "        if x in counts:\n",
    "            counts[x] += 1\n",
    "        else:\n",
    "            counts[x] = 1\n",
    "    return counts\n",
    "\n",
    "#Test for different time zones including nulls\n",
    "#c = get_counts(zones)\n",
    "#c['America/New_York']\n",
    "#c['Europe/London']\n",
    "#c['']\n"
   ]
  },
  {
   "cell_type": "code",
   "execution_count": null,
   "id": "b7dc3e77-ef81-4605-b9da-0b9ce722cb44",
   "metadata": {},
   "outputs": [],
   "source": [
    "#Using data frame class from pandas library\n",
    "#df = DataFrame(records)\n",
    "#df"
   ]
  },
  {
   "cell_type": "code",
   "execution_count": null,
   "id": "8fa043f3-0820-498f-9f2f-51643e1ae622",
   "metadata": {},
   "outputs": [],
   "source": [
    "#Using data frame inbuilt functions to get certain index count\n",
    "df['tz'].value_counts()"
   ]
  },
  {
   "cell_type": "code",
   "execution_count": null,
   "id": "4c17c0ae-058b-4654-8878-52b9fc40049f",
   "metadata": {},
   "outputs": [],
   "source": [
    "#Cleaning data to fill NaN or null entries\n",
    "#clean_zones = df['tz'].fillna('Missing')\n",
    "\n",
    "#Clean data to fill in empty string where unknown entries exist, eg. empty string\n",
    "#clean_zones[clean_zones == ''] = 'Unknown'\n",
    "\n",
    "#Display cleaned frame\n",
    "#zone_counts = clean_zones.value_counts()\n",
    "#zone_counts[:10]"
   ]
  },
  {
   "cell_type": "code",
   "execution_count": null,
   "id": "16932f0f-fd3a-4283-8149-ecdbb2a1ca50",
   "metadata": {},
   "outputs": [],
   "source": [
    "#Plot with a bar graph using inbuilt plot function\n",
    "#zone_counts[:10].plot(kind='barh', rot=0)"
   ]
  },
  {
   "cell_type": "code",
   "execution_count": null,
   "id": "8700bc59-9fee-48b8-b83e-f4dbf20131a2",
   "metadata": {},
   "outputs": [],
   "source": [
    "#Selecting column for browser information\n",
    "#df['a'][0]\n",
    "\n",
    "#Store results of browser information except where null via list comprehension\n",
    "#browser_results = Series([x.split()[0] for x in df.a.dropna()])\n",
    "\n",
    "#Show up to first 10\n",
    "#browser_results[:10]\n",
    "\n",
    "#Using value counts method again\n",
    "#browser_results.value_counts()[:10]"
   ]
  },
  {
   "cell_type": "code",
   "execution_count": null,
   "id": "8f86d1a4-ceee-472f-bcb5-4275b302c27f",
   "metadata": {},
   "outputs": [],
   "source": [
    "#New cleaned data frame where values for browser are not null\n",
    "#clean_d_frame = df[df.a.notnull()]\n",
    "\n",
    "#Store data about operating system used in browser information\n",
    "#os_data = np.where(clean_d_frame['a'].str.contains('Windows'), 'Windows', 'Other')\n",
    "\n",
    "#os_data[:5]"
   ]
  },
  {
   "cell_type": "code",
   "execution_count": null,
   "id": "1e803d26-00ff-45d2-9871-7ef0913c5769",
   "metadata": {},
   "outputs": [],
   "source": [
    "#Group by time zone and operating system\n",
    "#by_tz_os = clean_d_frame.groupby(['tz', os_data])\n",
    "\n",
    "#agg_counts = by_tz_os.size().unstack().fillna(0)\n",
    "\n",
    "#agg_counts[:10]"
   ]
  },
  {
   "cell_type": "code",
   "execution_count": null,
   "id": "00e85966-0a29-480e-9ea1-596a6fa35a84",
   "metadata": {},
   "outputs": [],
   "source": [
    "#Selecting top overall timezones\n",
    "#indexer = agg_counts.sum(1).argsort()\n",
    "\n",
    "#indexer[:10]"
   ]
  },
  {
   "cell_type": "code",
   "execution_count": null,
   "id": "4e8ba373-62b1-4749-a4b1-8ea1411ca8bf",
   "metadata": {},
   "outputs": [],
   "source": [
    "#Using take method to splice into specific element indices\n",
    "#subset = agg_counts.take(indexer)[-10:]\n",
    "#subset"
   ]
  },
  {
   "cell_type": "code",
   "execution_count": null,
   "id": "03e4a2b6-72aa-46cb-92ee-3f777c5f77fe",
   "metadata": {},
   "outputs": [],
   "source": [
    "#Plot using horizontal bar graph, same as before\n",
    "#subset.plot(kind=\"barh\", rot=0)"
   ]
  },
  {
   "cell_type": "code",
   "execution_count": null,
   "id": "b235f53b-9ff7-4ee8-8a2f-e15c3bcabf97",
   "metadata": {},
   "outputs": [],
   "source": [
    "#Use stacked and normalized bar graph to better see differences in operating system\n",
    "#Normalizes total number of OS by percentage\n",
    "#normed = subset.div(subset.sum(1), axis = 0)\n",
    "#normed.plot(kind = \"barh\", stacked = True)"
   ]
  },
  {
   "cell_type": "code",
   "execution_count": null,
   "id": "4654e9a5-cbbe-41df-8ff8-e0f030bf0ddd",
   "metadata": {},
   "outputs": [],
   "source": []
  }
 ],
 "metadata": {
  "kernelspec": {
   "display_name": "Python 3 (ipykernel)",
   "language": "python",
   "name": "python3"
  },
  "language_info": {
   "codemirror_mode": {
    "name": "ipython",
    "version": 3
   },
   "file_extension": ".py",
   "mimetype": "text/x-python",
   "name": "python",
   "nbconvert_exporter": "python",
   "pygments_lexer": "ipython3",
   "version": "3.10.2"
  }
 },
 "nbformat": 4,
 "nbformat_minor": 5
}
